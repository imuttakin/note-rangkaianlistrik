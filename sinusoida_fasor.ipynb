{
 "cells": [
  {
   "cell_type": "markdown",
   "metadata": {},
   "source": [
    "# Sinusoida dan Fasor"
   ]
  },
  {
   "cell_type": "markdown",
   "metadata": {},
   "source": [
    "## Pendahuluan\n",
    "Arus bolak-balik (ac) lebih efisien dan ekonomis untuk transmisi jarak jauh.\n",
    "Kita akan memulai analisis rangkaian dimana sumber tegangan atau arusnya bervariasi terhadap waktu.\n",
    "Pada Bab ini secara khusus kita mengkaji eksitasi bervariasi waktu secara sinusoidal, atau eksitasi oleh suatu sinusoida."
   ]
  },
  {
   "cell_type": "markdown",
   "metadata": {},
   "source": [
    "## Sinusoida"
   ]
  },
  {
   "cell_type": "markdown",
   "metadata": {},
   "source": [
    "<div class=\"alert alert-info\"><strong>Definisi</strong>:\n",
    "Sinusoid adalah sinyal yang berbentuk fungsi sinus atau kosinus.\n",
    "</div>    "
   ]
  },
  {
   "cell_type": "markdown",
   "metadata": {},
   "source": [
    "Arus sinusoidal biasanya dikenal sebagai *arus bolak-balik (ac)*.\n",
    "Arus ini berbalik secara berkala dan memiliki nilai positif dan negatif secara bergantian.\n",
    "Rangkaian yang dieksitasi oleh sumber arus atau tegangan sinusoidal disebut *rangkaian ac*."
   ]
  },
  {
   "cell_type": "markdown",
   "metadata": {},
   "source": [
    "Pertimbangkan tegangan sinusoidal\n",
    "$$ v(t) = V_m \\sin \\omega t $$\n",
    "dimana\n",
    "\n",
    "$V_m =$ amplitudo sinusoida     \n",
    "$\\omega =$ frekuensi sudut dalam radian/s    \n",
    "$\\omega t =$ argumen dari sinusoida"
   ]
  },
  {
   "cell_type": "code",
   "execution_count": null,
   "metadata": {},
   "outputs": [],
   "source": [
    "import matplotlib\n",
    "import matplotlib.pyplot as plt\n",
    "import numpy as np"
   ]
  },
  {
   "cell_type": "code",
   "execution_count": null,
   "metadata": {},
   "outputs": [],
   "source": [
    "# Data untuk plot\n",
    "t = np.arange(0.0, 4.5*np.pi, 0.01)\n",
    "s = np.sin(1 * t)\n",
    "\n",
    "fig, ax = plt.subplots()\n",
    "ax.plot(t, s)\n",
    "\n",
    "ax.set(xlabel='waktu (s)', ylabel='tegangan (mV)',\n",
    "       title='Plot')\n",
    "ax.grid()\n",
    "\n",
    "# fig.savefig(\"test.png\")\n",
    "plt.show()"
   ]
  },
  {
   "cell_type": "markdown",
   "metadata": {},
   "source": [
    "$$ \\omega T = 2 \\pi \\quad \\Rightarrow \\quad T = \\frac{2 \\pi}{\\omega} $$"
   ]
  },
  {
   "cell_type": "markdown",
   "metadata": {},
   "source": [
    "Fakta bahwa $v(t)$ berulang setiap $T$ detik ditunjukkan dengan mengganti $t$ dengan $t + T$. Kita dapatkan"
   ]
  },
  {
   "cell_type": "markdown",
   "metadata": {},
   "source": [
    "$$v(t + T) = V_m \\sin \\omega (t + T)$$"
   ]
  },
  {
   "cell_type": "markdown",
   "metadata": {},
   "source": [
    "$$ v(t + T ) = V_m \\sin \\omega \\left(t + \\frac{2 \\pi}{\\omega} \\right) $$"
   ]
  },
  {
   "cell_type": "markdown",
   "metadata": {},
   "source": [
    "$$ v(t + T) = V_m \\sin (\\omega t + 2 \\pi) $$"
   ]
  },
  {
   "cell_type": "markdown",
   "metadata": {},
   "source": [
    "Maka:\n",
    "$$ v(t + T) = v(t) $$"
   ]
  },
  {
   "cell_type": "markdown",
   "metadata": {},
   "source": [
    "yang berarti bahwa $v$ memiliki nilai yang sama pada $t + T$ seperti pada $t$, dan $v(t)$ dikatakan periodik."
   ]
  },
  {
   "cell_type": "markdown",
   "metadata": {},
   "source": [
    "<div class=\"alert alert-info\"><strong>Definisi</strong>:\n",
    "Fungsi periodik adalah fungsi yang memenuhi $f(t) = f(t + nT)$, untuk semua $t$ dan untuk semua bilangan bulat $n$.\n",
    "</div>"
   ]
  },
  {
   "cell_type": "markdown",
   "metadata": {},
   "source": [
    "Seperti disebutkan, periode T dari fungsi periodik adalah waktu satu siklus lengkap atau jumlah detik per siklus.\n",
    "Kebalikan dari kuantitas ini adalah jumlah siklus per detik, yang dikenal sebagai frekuensi siklik f dari sinusoidal.\n",
    "Dengan demikian,"
   ]
  },
  {
   "cell_type": "markdown",
   "metadata": {},
   "source": [
    "$$ f = \\frac{1}{T} $$"
   ]
  },
  {
   "cell_type": "markdown",
   "metadata": {},
   "source": [
    "jelas bahwa\n",
    "$$ \\omega = 2 \\pi f $$"
   ]
  },
  {
   "cell_type": "markdown",
   "metadata": {},
   "source": [
    "Dimana $\\omega$ dalam radian per detik (rad/s), $f$ dalam (Hz)."
   ]
  },
  {
   "cell_type": "markdown",
   "metadata": {},
   "source": [
    "Mari kita perhatikan ekspresi yang lebih umum untuk sinusoida,"
   ]
  },
  {
   "cell_type": "markdown",
   "metadata": {},
   "source": [
    "$$ v(t) = V_m \\sin (\\omega t + \\phi) $$"
   ]
  },
  {
   "cell_type": "markdown",
   "metadata": {},
   "source": [
    "di mana $(\\omega t + \\phi)$ argumen dan $\\phi$ fase.\n",
    "Baik argumen maupun fase dapat dalam radian atau derajat.\n",
    "Mari kita kaji dua sinusoida"
   ]
  },
  {
   "cell_type": "markdown",
   "metadata": {},
   "source": [
    "$$ v_1(t) = V_m \\sin \\omega t \\qquad \\qquad v_2(t) = V_m \\sin (\\omega t + \\phi) $$"
   ]
  },
  {
   "cell_type": "code",
   "execution_count": null,
   "metadata": {},
   "outputs": [],
   "source": [
    "t = np.arange(0.0, 4.5*np.pi, 0.01)\n",
    "phi = 2\n",
    "v1 = np.sin(t)\n",
    "v2 = np.sin(t + phi)\n",
    "fig, ax = plt.subplots()\n",
    "ax.plot(t, v1 , label='v1')\n",
    "ax.plot(t, v2 , label='v2')\n",
    "\n",
    "ax.set(xlabel='waktu (s)', ylabel='tegangan (mV)',\n",
    "       title='Plot')\n",
    "ax.grid()\n",
    "\n",
    "plt.legend()\n",
    "plt.show()"
   ]
  },
  {
   "cell_type": "markdown",
   "metadata": {},
   "source": [
    "Sinusoid dapat dinyatakan dalam bentuk sinus atau cosinus.\n",
    "Ketika membandingkan dua sinusoidal, akan bijaksana untuk menyatakan keduanya sebagai sinus atau cosinus dengan amplitudo positif.\n",
    "Ini dicapai dengan menggunakan identitas trigonometri berikut:"
   ]
  },
  {
   "cell_type": "markdown",
   "metadata": {},
   "source": [
    "$$\\begin{array}{l}\n",
    "\\sin (A \\pm B) = \\sin A \\cos B \\pm \\cos A \\sin B \\\\\n",
    "\\cos (A \\pm B) = \\cos A \\cos B \\mp \\sin A \\sin B\n",
    "\\end{array}$$"
   ]
  },
  {
   "cell_type": "markdown",
   "metadata": {},
   "source": [
    "Dengan identitas ini, mudah untuk menunjukkan bahwa"
   ]
  },
  {
   "cell_type": "markdown",
   "metadata": {},
   "source": [
    "$$\\begin{array}{rcl}\n",
    "\\sin (\\omega t \\pm 180^\\circ) &=& - \\sin \\omega t \\\\\n",
    "\\cos (\\omega t \\pm 180^\\circ) &=& - \\cos \\omega t \\\\\n",
    "\\sin (\\omega t \\pm 90^\\circ) &=& \\pm \\cos \\omega t \\\\\n",
    "\\cos (\\omega t \\pm 90^\\circ) &=& \\mp \\sin \\omega t\n",
    "\\end{array}$$"
   ]
  },
  {
   "cell_type": "markdown",
   "metadata": {},
   "source": [
    "Dengan menggunakan hubungan ini, kita dapat mengubah sinusoidal dari bentuk sinus ke bentuk cosinus atau sebaliknya."
   ]
  },
  {
   "cell_type": "code",
   "execution_count": null,
   "metadata": {},
   "outputs": [],
   "source": [
    "%reset -s -f"
   ]
  },
  {
   "cell_type": "markdown",
   "metadata": {},
   "source": [
    "## Contoh\n",
    "Tentukan amplitudo, fase, periode, dan frekuensi sinusoida"
   ]
  },
  {
   "cell_type": "markdown",
   "metadata": {},
   "source": [
    "$$ v(t) = 12 \\cos (50t + 10^\\circ) $$"
   ]
  },
  {
   "cell_type": "markdown",
   "metadata": {},
   "source": [
    "### Solusi\n",
    "Amplitudo $V_m = 12 \\, \\mathrm{V}$    \n",
    "Fasa es $\\phi = 10^\\circ$    \n",
    "Frekuensi sudut $\\omega = 50 \\, \\mathrm{rad/s}$.     \n",
    "Periode \n",
    "$$T = \\frac{2 \\pi}{\\omega} = \\frac{2 \\pi}{50} = 0,1257$$\n",
    "Frekuensi\n",
    "$$ f = \\frac{1}{T} = 7,958 \\, \\mathrm{Hz} $$"
   ]
  },
  {
   "cell_type": "code",
   "execution_count": null,
   "metadata": {},
   "outputs": [],
   "source": [
    "import math"
   ]
  },
  {
   "cell_type": "code",
   "execution_count": null,
   "metadata": {},
   "outputs": [],
   "source": [
    "Vm = 12 # V\n",
    "phi = 10 # derajat\n",
    "omega = 50 # rad/s\n",
    "\n",
    "T = 2*math.pi/omega\n",
    "f = 1/T"
   ]
  },
  {
   "cell_type": "code",
   "execution_count": null,
   "metadata": {},
   "outputs": [],
   "source": [
    "print('T = %.4f'%T)\n",
    "print('f = %.3f Hz'%f)"
   ]
  },
  {
   "cell_type": "markdown",
   "metadata": {},
   "source": [
    "Diberikan sinusoida $5 \\sin (4 \\pi t - 60^\\circ)$, hitung amplitudo, fasa, frekuensi sudut, periode dan frekuensi."
   ]
  },
  {
   "cell_type": "markdown",
   "metadata": {},
   "source": [
    "Amplitudo $V_m = 5$      \n",
    "Fasa es $\\phi =-60^\\circ$     \n",
    "Frekuensi sudut $\\omega = 12,57$     \n",
    "Periode\n",
    "$$ T = \\frac{2 \\pi}{\\omega} $$\n",
    "Frekuensi\n",
    "$$ f = \\frac{1}{T} $$"
   ]
  },
  {
   "cell_type": "code",
   "execution_count": null,
   "metadata": {},
   "outputs": [],
   "source": [
    "Vm = 5 \n",
    "phi = -60 # derajat\n",
    "\n",
    "omega = math.pi*4 # rad/s\n",
    "T = 2*math.pi/omega \n",
    "f = 1/T"
   ]
  },
  {
   "cell_type": "code",
   "execution_count": null,
   "metadata": {},
   "outputs": [],
   "source": [
    "print('omega = %1.2f rad/s'%omega)\n",
    "print('T = %.2f s/rev'%T)\n",
    "print('f = %.2f Hz'%f)"
   ]
  },
  {
   "cell_type": "code",
   "execution_count": null,
   "metadata": {},
   "outputs": [],
   "source": [
    "%reset -s -f"
   ]
  },
  {
   "cell_type": "markdown",
   "metadata": {},
   "source": [
    "## Fasor\n",
    "Sinusoid mudah diekspresikan dalam bentuk fasor, yang lebih mudah digunakan daripada fungsi sinus dan kosinus."
   ]
  },
  {
   "cell_type": "markdown",
   "metadata": {},
   "source": [
    "<div class=\"alert alert-info\"><strong>Definisi</strong>:\n",
    "Fasor adalah bilangan kompleks yang mewakili amplitudo dan fase sinusoida.\n",
    "</div>"
   ]
  },
  {
   "cell_type": "markdown",
   "metadata": {},
   "source": [
    "Suatu bilangan kompleks $z$ dapat ditulis dalam bentuk rectangular sebagai"
   ]
  },
  {
   "cell_type": "markdown",
   "metadata": {},
   "source": [
    "$$ z = x + jy $$"
   ]
  },
  {
   "cell_type": "markdown",
   "metadata": {},
   "source": [
    "dimana $j = \\sqrt{-1}$; $x$ adalah bagian real $z$ dan $y$ adalah bagian imajiner dari $z$."
   ]
  },
  {
   "cell_type": "markdown",
   "metadata": {},
   "source": [
    "Bilangan kompleks $z$ juga dapat ditulis dalam polar atau bentuk eksponensial sebagai"
   ]
  },
  {
   "cell_type": "markdown",
   "metadata": {},
   "source": [
    "$$ z = r \\angle \\phi = re^{j \\phi} $$"
   ]
  },
  {
   "cell_type": "markdown",
   "metadata": {},
   "source": [
    "dimana $r$ adalah magnitudo dari $z$ dan $\\phi$ adalah fasa dari $z$.\n",
    "Kita perhatikan bahwa $z$ dapat direpresentasikan dalam tiga cara:"
   ]
  },
  {
   "cell_type": "markdown",
   "metadata": {},
   "source": [
    "$$\\begin{array}{lcl} \n",
    "z = x + jy & & \\text{Bentuk rectangular} \\\\\n",
    "z = r \\angle \\phi & & \\text{Bentuk polar} \\\\\n",
    "z = re^{j \\phi} & & \\text{Bentuk eksponensial}\n",
    "\\end{array}$$"
   ]
  },
  {
   "cell_type": "markdown",
   "metadata": {},
   "source": [
    "Diberikan $r$ dan $\\phi$, kita dapat memperoleh $x$ dan $y$ sebagai "
   ]
  },
  {
   "cell_type": "markdown",
   "metadata": {},
   "source": [
    "$$ x = r \\cos \\phi \\qquad \\qquad y = r \\sin \\phi $$"
   ]
  },
  {
   "cell_type": "markdown",
   "metadata": {},
   "source": [
    "Dengan demikian, $z$ dapat ditulis berupa"
   ]
  },
  {
   "cell_type": "markdown",
   "metadata": {},
   "source": [
    "$$ z = x + jy = r \\angle \\phi = r( \\cos \\phi + j \\sin \\phi ) $$"
   ]
  },
  {
   "cell_type": "markdown",
   "metadata": {},
   "source": [
    "* Penjumlahan dan pengurangan bilangan kompleks lebih baik dilakukan dalam bentuk rectangular.    \n",
    "* Perkalian dan pembagian lebih baik dilakukan dalam bentuk polar."
   ]
  },
  {
   "cell_type": "markdown",
   "metadata": {},
   "source": [
    "Berikut ini beberapa operasi penting."
   ]
  },
  {
   "cell_type": "markdown",
   "metadata": {},
   "source": [
    "__Penjumlahan:__\n",
    "$$ z_1 + z_2 = (x_1 + x_2) + j(y_1 + y_2) $$"
   ]
  },
  {
   "cell_type": "markdown",
   "metadata": {},
   "source": [
    "__Pengurangan:__\n",
    "$$ z_1 - z_2 = (x_1 - x_2) + j(y_1 - y_2) $$"
   ]
  },
  {
   "cell_type": "markdown",
   "metadata": {},
   "source": [
    "__Perkalian:__\n",
    "$$ z_1 z_2 = r_1 r_2 \\; \\angle (\\phi_1 + \\phi_2) $$"
   ]
  },
  {
   "cell_type": "markdown",
   "metadata": {},
   "source": [
    "__Pembagian:__\n",
    "$$ \\frac{z_1}{z_2} = \\frac{r_1}{r_2} \\; \\angle (\\phi_1 - \\phi_2) $$"
   ]
  },
  {
   "cell_type": "markdown",
   "metadata": {},
   "source": [
    "__Inversi:__\n",
    "$$ \\frac{1}{z} = \\frac{1}{r} \\; \\angle (- \\phi) $$"
   ]
  },
  {
   "cell_type": "markdown",
   "metadata": {},
   "source": [
    "__Akar kuadrat:__\n",
    "$$ \\sqrt{z} = \\sqrt{r} \\; \\angle \\frac{\\phi}{2} $$"
   ]
  },
  {
   "cell_type": "markdown",
   "metadata": {},
   "source": [
    "__Kompleks konjugat:__\n",
    "$$ z^* = x - jy = r \\angle (- \\phi) = r e^{-j \\phi} $$"
   ]
  },
  {
   "cell_type": "markdown",
   "metadata": {},
   "source": [
    "Ide representasi fasor adalah berdasarkan identitas Euler.\n",
    "Secara umum:"
   ]
  },
  {
   "cell_type": "markdown",
   "metadata": {},
   "source": [
    "$$ e^{\\pm j \\phi} = \\cos \\phi \\pm j \\sin \\phi $$"
   ]
  },
  {
   "cell_type": "markdown",
   "metadata": {},
   "source": [
    "yang menunjukkan bahwa kita dapat menganggap $\\cos \\phi$ y $\\sin \\phi$ sebagai komponen real dan imajiner dari $e^{j \\phi}$; kita dapat menuliskan"
   ]
  },
  {
   "cell_type": "markdown",
   "metadata": {},
   "source": [
    "$$\\begin{array}{l}\n",
    "\\cos \\phi = \\mathrm{Re} (e^{j \\phi}) \\\\\n",
    "\\sin \\phi = \\mathrm{Im} (e^{j \\phi})\n",
    "\\end{array}$$"
   ]
  },
  {
   "cell_type": "markdown",
   "metadata": {},
   "source": [
    "## Contoh\n",
    "Evaluasi bilangan kompleks berikut:\n",
    "$$ (40 \\angle 50^\\circ + 20 \\angle -30^\\circ)^{1/2} $$"
   ]
  },
  {
   "cell_type": "markdown",
   "metadata": {},
   "source": [
    "### Solusi\n",
    "Menggunakan transformasi polar ke rectangular"
   ]
  },
  {
   "cell_type": "markdown",
   "metadata": {},
   "source": [
    "$$ z = r \\angle \\phi \\quad \\rightarrow \\quad\n",
    "\\left\\{\n",
    "\\begin{array}{l}\n",
    "x = r \\cos \\phi \\\\\n",
    "y = r \\sin \\phi\n",
    "\\end{array}\n",
    "\\right.$$"
   ]
  },
  {
   "cell_type": "markdown",
   "metadata": {},
   "source": [
    "__* Langkah-langkah:__"
   ]
  },
  {
   "cell_type": "code",
   "execution_count": null,
   "metadata": {},
   "outputs": [],
   "source": [
    "import math"
   ]
  },
  {
   "cell_type": "code",
   "execution_count": null,
   "metadata": {},
   "outputs": [],
   "source": [
    "phi1 = 50*(math.pi/180) # rad (konversi ke radian)\n",
    "r1 = 40\n",
    "\n",
    "x1 = r1*math.cos(phi1)\n",
    "y1 = r1*math.sin(phi1)"
   ]
  },
  {
   "cell_type": "code",
   "execution_count": null,
   "metadata": {},
   "outputs": [],
   "source": [
    "print('z1 = %.2f + (%.2f)j'%(x1,y1))"
   ]
  },
  {
   "cell_type": "code",
   "execution_count": null,
   "metadata": {},
   "outputs": [],
   "source": [
    "phi2 = -30*(math.pi/180) # rad\n",
    "r2 = 20\n",
    "\n",
    "x2 = r2*math.cos(phi2)\n",
    "y2 = r2*math.sin(phi2)"
   ]
  },
  {
   "cell_type": "code",
   "execution_count": null,
   "metadata": {},
   "outputs": [],
   "source": [
    "print('z2 = %.2f + (%.2f)j'%(x2,y2))"
   ]
  },
  {
   "cell_type": "markdown",
   "metadata": {},
   "source": [
    "Hasil penjumlahannya:"
   ]
  },
  {
   "cell_type": "code",
   "execution_count": null,
   "metadata": {},
   "outputs": [],
   "source": [
    "x3 = x1 + x2\n",
    "y3 = y1 + y2"
   ]
  },
  {
   "cell_type": "code",
   "execution_count": null,
   "metadata": {},
   "outputs": [],
   "source": [
    "print('z3 = %.2f + (%.2f)j'%(x3,y3))"
   ]
  },
  {
   "cell_type": "markdown",
   "metadata": {},
   "source": [
    "Konversi $z_3$ ke koordinat polar"
   ]
  },
  {
   "cell_type": "code",
   "execution_count": null,
   "metadata": {},
   "outputs": [],
   "source": [
    "r3 = math.sqrt(x3**2 + y3**2)\n",
    "phi3 = math.atan(y3/x3)"
   ]
  },
  {
   "cell_type": "code",
   "execution_count": null,
   "metadata": {},
   "outputs": [],
   "source": [
    "print('z3 = %.2f<%.2frad'%(r3,phi3))\n",
    "print('z3 = %.2f<%.2f°'%(r3,phi3*180/math.pi))"
   ]
  },
  {
   "cell_type": "markdown",
   "metadata": {},
   "source": [
    "Menghitung akar kuadrat dari ekspresi ini"
   ]
  },
  {
   "cell_type": "code",
   "execution_count": null,
   "metadata": {},
   "outputs": [],
   "source": [
    "r4 = math.sqrt(r3)\n",
    "phi4 = phi3/2"
   ]
  },
  {
   "cell_type": "code",
   "execution_count": null,
   "metadata": {},
   "outputs": [],
   "source": [
    "print('z4 = %.2f<%.2frad'%(r4,phi4))\n",
    "print('z4 = %.2f<%.2f°'%(r4,phi4*180/math.pi))"
   ]
  },
  {
   "cell_type": "markdown",
   "metadata": {},
   "source": [
    "__* Menggunakan library cmath__"
   ]
  },
  {
   "cell_type": "code",
   "execution_count": null,
   "metadata": {},
   "outputs": [],
   "source": [
    "import cmath"
   ]
  },
  {
   "cell_type": "code",
   "execution_count": null,
   "metadata": {},
   "outputs": [],
   "source": [
    "r1 = 40 ; phi1 = 50*math.pi/180 \n",
    "r2 = 20 ; phi2 = -30*math.pi/180\n",
    "# Konversi ke koordinat rectangular\n",
    "c1 = cmath.rect(r1,phi1)\n",
    "c2 = cmath.rect(r2,phi2)\n",
    "\n",
    "c3 = cmath.sqrt(c1 + c2)\n",
    "c3p = cmath.polar(c3)"
   ]
  },
  {
   "cell_type": "code",
   "execution_count": null,
   "metadata": {},
   "outputs": [],
   "source": [
    "print('c1 = {:.2f}'.format(c1))\n",
    "print('c2 = {:.2f}'.format(c2))"
   ]
  },
  {
   "cell_type": "code",
   "execution_count": null,
   "metadata": {},
   "outputs": [],
   "source": [
    "print('c3 = {:.2f}'.format(c3))"
   ]
  },
  {
   "cell_type": "code",
   "execution_count": null,
   "metadata": {},
   "outputs": [],
   "source": [
    "print('c3p = %.2f<%.2frad'%(c3p[0],c3p[1]))"
   ]
  },
  {
   "cell_type": "code",
   "execution_count": null,
   "metadata": {},
   "outputs": [],
   "source": [
    "%reset -s -f"
   ]
  },
  {
   "cell_type": "markdown",
   "metadata": {},
   "source": [
    "## Contoh\n",
    "$$ \\frac{ (10 \\angle -30^\\circ) + (3 - 4j) }{ (2 + 4j) \\, (3 - 5j)^*  } $$"
   ]
  },
  {
   "cell_type": "markdown",
   "metadata": {},
   "source": [
    "### Solusi"
   ]
  },
  {
   "cell_type": "markdown",
   "metadata": {},
   "source": [
    "1. Konversi $(10 \\angle -30^\\circ)$ ke rectangular\n",
    "$$\\begin{array}{l}\n",
    "x = r \\cos \\phi \\\\\n",
    "y = r \\sin \\phi\n",
    "\\end{array}$$"
   ]
  },
  {
   "cell_type": "code",
   "execution_count": null,
   "metadata": {},
   "outputs": [],
   "source": [
    "import math\n",
    "import cmath"
   ]
  },
  {
   "cell_type": "code",
   "execution_count": null,
   "metadata": {},
   "outputs": [],
   "source": [
    "r1 = 10 ; phi1 = -30*(math.pi/180)\n",
    "\n",
    "x1 = r1*math.cos(phi1)\n",
    "y1 = r1*math.sin(phi1)"
   ]
  },
  {
   "cell_type": "code",
   "execution_count": null,
   "metadata": {},
   "outputs": [],
   "source": [
    "print('(%.2f %.2fj)'%(x1,y1))"
   ]
  },
  {
   "cell_type": "markdown",
   "metadata": {},
   "source": [
    "2. Penjumlahan"
   ]
  },
  {
   "cell_type": "code",
   "execution_count": null,
   "metadata": {},
   "outputs": [],
   "source": [
    "c1 = complex(x1, y1)\n",
    "c2 = complex(3, -4)\n",
    "Num = c1 + c2\n",
    "Num_pol = cmath.polar(Num)"
   ]
  },
  {
   "cell_type": "code",
   "execution_count": null,
   "metadata": {},
   "outputs": [],
   "source": [
    "print('Num = {:.2f}'.format(Num))\n",
    "print('Num_pol = %.2f<%.2frad'%Num_pol)"
   ]
  },
  {
   "cell_type": "code",
   "execution_count": null,
   "metadata": {},
   "outputs": [],
   "source": [
    "c3 = complex(2,4)\n",
    "c4 = 3-5j.conjugate()\n",
    "Den = c3*c4\n",
    "Den_pol = cmath.polar(Den)"
   ]
  },
  {
   "cell_type": "code",
   "execution_count": null,
   "metadata": {},
   "outputs": [],
   "source": [
    "print('Den = {:.2f}'.format(Den))\n",
    "print('Den_pol = %.2f<%.2frad'%Den_pol)"
   ]
  },
  {
   "cell_type": "code",
   "execution_count": null,
   "metadata": {},
   "outputs": [],
   "source": [
    "Res = Num/Den\n",
    "Res_pol = cmath.polar(Res)"
   ]
  },
  {
   "cell_type": "code",
   "execution_count": null,
   "metadata": {},
   "outputs": [],
   "source": [
    "print('Res = {:.2f}'.format(Res))\n",
    "print('Res_pol = %.3f<%.2frad'%Res_pol)\n",
    "print('%.2frad = %s°'%(Res_pol[1],round(Res_pol[1]*180/math.pi,2)))"
   ]
  },
  {
   "cell_type": "code",
   "execution_count": null,
   "metadata": {},
   "outputs": [],
   "source": [
    "%reset -s -f"
   ]
  },
  {
   "cell_type": "markdown",
   "metadata": {},
   "source": [
    "## Latihan\n",
    "Evaluasi bilangan kompleks berikut:\n",
    "$$ [(5 + 2j)(-1 + 4j) - 5 \\angle 60^\\circ]^* $$"
   ]
  },
  {
   "cell_type": "markdown",
   "metadata": {},
   "source": [
    "### Solusi"
   ]
  },
  {
   "cell_type": "markdown",
   "metadata": {},
   "source": [
    "__Gunakan library cmath__"
   ]
  },
  {
   "cell_type": "code",
   "execution_count": null,
   "metadata": {},
   "outputs": [],
   "source": [
    "import math\n",
    "import cmath"
   ]
  },
  {
   "cell_type": "code",
   "execution_count": null,
   "metadata": {},
   "outputs": [],
   "source": [
    "z1 = complex(5,2)\n",
    "z2 = complex(-1,4)\n",
    "z3 = cmath.rect(5,60*math.pi/180)\n",
    "\n",
    "Hasil = (z1*z2 - z3).conjugate()"
   ]
  },
  {
   "cell_type": "code",
   "execution_count": null,
   "metadata": {},
   "outputs": [],
   "source": [
    "print('Hasil = {:.2f}'.format(Hasil))"
   ]
  },
  {
   "cell_type": "markdown",
   "metadata": {},
   "source": [
    "__Ssolusi langkah demi langkah__\n",
    "1. Konversi $(5 + 2j)$ ke koordinat polar"
   ]
  },
  {
   "cell_type": "code",
   "execution_count": null,
   "metadata": {},
   "outputs": [],
   "source": [
    "x1 = 5 \n",
    "y1 = 2\n",
    "\n",
    "r1 = math.sqrt(x1**2 + y1**2)\n",
    "phi1 = math.atan(2/5)\n",
    "\n",
    "z1 = complex(x1,y1)\n",
    "z1p = (r1,phi1)"
   ]
  },
  {
   "cell_type": "code",
   "execution_count": null,
   "metadata": {},
   "outputs": [],
   "source": [
    "print('z1 = {:.2f}'.format(z1))\n",
    "print('z1p = %.3f<%.3frad'%z1p)"
   ]
  },
  {
   "cell_type": "markdown",
   "metadata": {},
   "source": [
    "2. Konversi $(-1 + 4j)$ ke koordinat polar"
   ]
  },
  {
   "cell_type": "code",
   "execution_count": null,
   "metadata": {},
   "outputs": [],
   "source": [
    "x2 = -1\n",
    "y2 = 4\n",
    "\n",
    "r2 = math.sqrt((-1)**2 + 4**2)\n",
    "phi2 = math.pi + math.atan(4/-1)\n",
    "\n",
    "z2 = complex(x2,y2)\n",
    "z2p = (r2,phi2)"
   ]
  },
  {
   "cell_type": "code",
   "execution_count": null,
   "metadata": {},
   "outputs": [],
   "source": [
    "print('z2 = {:.2f}'.format(z2))\n",
    "print('z2p = %.3f<%.2frad'%z2p)"
   ]
  },
  {
   "cell_type": "markdown",
   "metadata": {},
   "source": [
    "3. Perkalian"
   ]
  },
  {
   "cell_type": "code",
   "execution_count": null,
   "metadata": {},
   "outputs": [],
   "source": [
    "r3 = z1p[0]*z2p[0]\n",
    "phi3 = z1p[1] + z2p[1]\n",
    "\n",
    "z3p = (r3,phi3)"
   ]
  },
  {
   "cell_type": "code",
   "execution_count": null,
   "metadata": {},
   "outputs": [],
   "source": [
    "print('z3p = %.3f<%.3frad'%z3p)"
   ]
  },
  {
   "cell_type": "code",
   "execution_count": null,
   "metadata": {},
   "outputs": [],
   "source": [
    "x3 = r3*math.cos(phi3)\n",
    "y3 = r3*math.sin(phi3)\n",
    "\n",
    "z3 = complex(x3,y3)"
   ]
  },
  {
   "cell_type": "code",
   "execution_count": null,
   "metadata": {},
   "outputs": [],
   "source": [
    "print('z3 = {:.2f}'.format(z3))"
   ]
  },
  {
   "cell_type": "markdown",
   "metadata": {},
   "source": [
    "4. Konversi $5 \\angle 60^\\circ$ ke koordinat rektangular"
   ]
  },
  {
   "cell_type": "code",
   "execution_count": null,
   "metadata": {},
   "outputs": [],
   "source": [
    "r4 = 5\n",
    "phi4 = 60*math.pi/180\n",
    "\n",
    "z4p = (r4,phi4)\n",
    "\n",
    "x4 = r4*math.cos(phi4)\n",
    "y4 = r4*math.sin(phi4)\n",
    "\n",
    "z4 = complex(x4,y4)"
   ]
  },
  {
   "cell_type": "code",
   "execution_count": null,
   "metadata": {},
   "outputs": [],
   "source": [
    "print('z4 = {:.2f}'.format(z4))"
   ]
  },
  {
   "cell_type": "markdown",
   "metadata": {},
   "source": [
    "5. Pengurangan"
   ]
  },
  {
   "cell_type": "code",
   "execution_count": null,
   "metadata": {},
   "outputs": [],
   "source": [
    "z5 = z3 - z4"
   ]
  },
  {
   "cell_type": "markdown",
   "metadata": {},
   "source": [
    "6. Konjugat"
   ]
  },
  {
   "cell_type": "code",
   "execution_count": null,
   "metadata": {},
   "outputs": [],
   "source": [
    "Res = z5.conjugate()"
   ]
  },
  {
   "cell_type": "markdown",
   "metadata": {},
   "source": [
    "Hasil:"
   ]
  },
  {
   "cell_type": "code",
   "execution_count": null,
   "metadata": {},
   "outputs": [],
   "source": [
    "print('Res = {:.2f}'.format(Res))"
   ]
  },
  {
   "cell_type": "code",
   "execution_count": null,
   "metadata": {},
   "outputs": [],
   "source": [
    "%reset -s -f"
   ]
  },
  {
   "cell_type": "markdown",
   "metadata": {},
   "source": [
    "## Latihan"
   ]
  },
  {
   "cell_type": "markdown",
   "metadata": {},
   "source": [
    "$$ \\frac{ (10 + 5j) + (3 \\angle 40^\\circ) }{ (-3 + 4j) } + (10 \\angle 30^\\circ) $$"
   ]
  },
  {
   "cell_type": "code",
   "execution_count": null,
   "metadata": {},
   "outputs": [],
   "source": [
    "import math\n",
    "import cmath"
   ]
  },
  {
   "cell_type": "markdown",
   "metadata": {},
   "source": [
    "__Menggunakan library cmath__"
   ]
  },
  {
   "cell_type": "code",
   "execution_count": null,
   "metadata": {},
   "outputs": [],
   "source": [
    "z1 = complex(10,5)\n",
    "z2 = cmath.rect(3,40*math.pi/180)\n",
    "z3 = complex(-3,4)\n",
    "z4 = cmath.rect(10,30*math.pi/180)\n",
    "\n",
    "Res = (z1 + z2)/z3 + z4"
   ]
  },
  {
   "cell_type": "code",
   "execution_count": null,
   "metadata": {},
   "outputs": [],
   "source": [
    "print('Res = {:.3f}'.format(Res))"
   ]
  },
  {
   "cell_type": "markdown",
   "metadata": {},
   "source": [
    "__Solusi langkah demi langkah__"
   ]
  },
  {
   "cell_type": "code",
   "execution_count": null,
   "metadata": {},
   "outputs": [],
   "source": [
    "# Data:\n",
    "x1 = 10 ; y1 = 5\n",
    "r2 = 3\n",
    "phi2 = 40*math.pi/180\n",
    "x3 = -3 ; y3 = 4\n",
    "r4 = 10\n",
    "phi4 = 30*math.pi/180"
   ]
  },
  {
   "cell_type": "markdown",
   "metadata": {},
   "source": [
    "$$\\left.\n",
    "\\begin{array}{l}\n",
    "r_2 = 3 \\\\\n",
    "\\phi_2 = 40^\\circ\n",
    "\\end{array}\n",
    "\\right\\} \\quad \\rightarrow \\quad\n",
    "\\begin{array}{l}\n",
    "x_2 = r_2 \\cos \\phi_2 \\\\\n",
    "y_2 = r_2 \\sin \\phi_2\n",
    "\\end{array}$$"
   ]
  },
  {
   "cell_type": "code",
   "execution_count": null,
   "metadata": {},
   "outputs": [],
   "source": [
    "x2 = r2*math.cos(phi2)\n",
    "y2 = r2*math.sin(phi2)\n",
    "\n",
    "x_s1 = x1 + x2\n",
    "y_s1 = y1 + y2"
   ]
  },
  {
   "cell_type": "code",
   "execution_count": null,
   "metadata": {},
   "outputs": [],
   "source": [
    "print('s1 = (%.3f,%.3f)'%(x_s1,y_s1))"
   ]
  },
  {
   "cell_type": "markdown",
   "metadata": {},
   "source": [
    "$\\begin{array}{l}\n",
    "r_{s1} = \\sqrt{x_{s1}^2 + y_{s1}^2} \\\\\n",
    "\\phi_{s1} = \\arctan (y_{s1}/x_{s1})\n",
    "\\end{array}$"
   ]
  },
  {
   "cell_type": "code",
   "execution_count": null,
   "metadata": {},
   "outputs": [],
   "source": [
    "# Konversi ke polar\n",
    "r_s1 = math.sqrt(x_s1**2 + y_s1**2)\n",
    "phi_s1 = math.atan(y_s1/x_s1)"
   ]
  },
  {
   "cell_type": "code",
   "execution_count": null,
   "metadata": {},
   "outputs": [],
   "source": [
    "print('s1p = (%.3f,<%.3frad)'%(r_s1,phi_s1))"
   ]
  },
  {
   "cell_type": "markdown",
   "metadata": {},
   "source": [
    "$$\\left\\{\n",
    "\\begin{array}{l}\n",
    "r_3 = \\sqrt{x_3^2 + y_3^2} \\\\\n",
    "\\displaystyle \\phi_3 = \\pi - \\arctan \\left| \\frac{y_3}{x_3} \\right|\n",
    "\\end{array}\n",
    "\\right.$$"
   ]
  },
  {
   "cell_type": "code",
   "execution_count": null,
   "metadata": {},
   "outputs": [],
   "source": [
    "r3 = math.sqrt(x3**2 + y3**2)\n",
    "phi3 = math.pi - math.atan( y3 / abs(x3) )"
   ]
  },
  {
   "cell_type": "code",
   "execution_count": null,
   "metadata": {},
   "outputs": [],
   "source": [
    "print('c3p = (%.3f,%.3frad)'%(r3,phi3))"
   ]
  },
  {
   "cell_type": "markdown",
   "metadata": {},
   "source": [
    "Pembagian dalam koordinat polar"
   ]
  },
  {
   "cell_type": "markdown",
   "metadata": {},
   "source": [
    "$$\\left\\{\n",
    "\\begin{array}{l}\n",
    "\\displaystyle r_{f1} = \\frac{r_{s1}}{r_3} \\\\\n",
    "\\phi_{f1} = \\phi_{s1} - \\phi_3\n",
    "\\end{array}\n",
    "\\right.$$"
   ]
  },
  {
   "cell_type": "code",
   "execution_count": null,
   "metadata": {},
   "outputs": [],
   "source": [
    "r_f1 = r_s1/r3\n",
    "phi_f1 = phi_s1 - phi3"
   ]
  },
  {
   "cell_type": "markdown",
   "metadata": {},
   "source": [
    "Konversi pecahan menjadi koordinat rectangular"
   ]
  },
  {
   "cell_type": "markdown",
   "metadata": {},
   "source": [
    "$$\\left\\{\n",
    "\\begin{array}{l}\n",
    "x_{f1} = r_{f1} \\cos \\phi_{f1} \\\\\n",
    "y_{f1} = r_{f1} \\sin \\phi_{f1}\n",
    "\\end{array}\n",
    "\\right.$$"
   ]
  },
  {
   "cell_type": "code",
   "execution_count": null,
   "metadata": {},
   "outputs": [],
   "source": [
    "x_f1 = r_f1*math.cos(phi_f1)\n",
    "y_f1 = r_f1*math.sin(phi_f1)"
   ]
  },
  {
   "cell_type": "code",
   "execution_count": null,
   "metadata": {},
   "outputs": [],
   "source": [
    "print('f1 = (%.3f,%.3f)'%(x_f1,y_f1))"
   ]
  },
  {
   "cell_type": "markdown",
   "metadata": {},
   "source": [
    "Konversi ke koordinat rectangular $(10 \\angle 30^\\circ)$"
   ]
  },
  {
   "cell_type": "markdown",
   "metadata": {},
   "source": [
    "$$\\left\\{\n",
    "\\begin{array}{l}\n",
    "x_4 = r_4 \\cos \\phi_4 \\\\\n",
    "y_4 = r_4 \\sin \\phi_4\n",
    "\\end{array}\n",
    "\\right.$$"
   ]
  },
  {
   "cell_type": "code",
   "execution_count": null,
   "metadata": {},
   "outputs": [],
   "source": [
    "x4 = r4*math.cos(phi4)\n",
    "y4 = r4*math.sin(phi4)"
   ]
  },
  {
   "cell_type": "code",
   "execution_count": null,
   "metadata": {},
   "outputs": [],
   "source": [
    "print('c4 = (%.3f,%.3f)'%(x4,y4))"
   ]
  },
  {
   "cell_type": "markdown",
   "metadata": {},
   "source": [
    "Penjumlahan dalam koordinat rectangular"
   ]
  },
  {
   "cell_type": "code",
   "execution_count": null,
   "metadata": {},
   "outputs": [],
   "source": [
    "x_res = x_f1 + x4\n",
    "y_res = y_f1 + y4"
   ]
  },
  {
   "cell_type": "code",
   "execution_count": null,
   "metadata": {},
   "outputs": [],
   "source": [
    "# Print hasil\n",
    "print('Hasil = (%.3f,%.3f)'%(x_res,y_res))"
   ]
  },
  {
   "cell_type": "code",
   "execution_count": null,
   "metadata": {},
   "outputs": [],
   "source": [
    "%reset -s -f"
   ]
  },
  {
   "cell_type": "markdown",
   "metadata": {},
   "source": [
    "## Contoh\n",
    "Transformasikan sinusoida menjadi fasor\n",
    "$\\begin{array}{ll}\n",
    "a) & i = 6 \\cos (50t - 40^\\circ) \\, \\mathrm{A} \\\\\n",
    "b) & v = -4 \\sin (30t + 50^\\circ) \\, \\mathrm{V}\n",
    "\\end{array}$"
   ]
  },
  {
   "cell_type": "markdown",
   "metadata": {},
   "source": [
    "### Solusi\n",
    "$a)$\n",
    "$$ i = 6 \\cos (50t - 40^\\circ) \\, \\mathrm{A} $$"
   ]
  },
  {
   "cell_type": "markdown",
   "metadata": {},
   "source": [
    "memiliki bentuk fasor $\\vec{I} = (6, \\angle -40^\\circ) \\, \\mathrm{A}$"
   ]
  },
  {
   "cell_type": "markdown",
   "metadata": {},
   "source": [
    "$b)$ karena $-\\sin A = \\cos (A + 90^\\circ)$:"
   ]
  },
  {
   "cell_type": "markdown",
   "metadata": {},
   "source": [
    "$$ v = -4 \\sin (30t + 50^\\circ) \\, \\mathrm{V} = 4 \\cos (30t + 50^\\circ + 90^\\circ) $$"
   ]
  },
  {
   "cell_type": "markdown",
   "metadata": {},
   "source": [
    "$$ v = \\cos (30t + 140^\\circ) \\, \\mathrm{V} $$"
   ]
  },
  {
   "cell_type": "markdown",
   "metadata": {},
   "source": [
    "Bentuk fasor dari $v$ adalah\n",
    "$$ \\vec{V} = (4, \\angle 140^\\circ \\, \\mathrm{V}) $$"
   ]
  },
  {
   "cell_type": "markdown",
   "metadata": {},
   "source": [
    "## Latihan\n",
    "Ekspresikan sinusoida berikut sebagai fasor:"
   ]
  },
  {
   "cell_type": "markdown",
   "metadata": {},
   "source": [
    "$\\begin{array}{ll}\n",
    "a) & v = -7 \\cos (2t + 40^\\circ) \\, \\mathrm{V} \\\\\n",
    "b) & i = 4 \\sin (10t + 10^\\circ) \\, \\mathrm{A}\n",
    "\\end{array}$"
   ]
  },
  {
   "cell_type": "markdown",
   "metadata": {},
   "source": [
    "### Solusi\n",
    "$a)$ Karena $- \\cos A = \\cos (A + 180^\\circ)$:"
   ]
  },
  {
   "cell_type": "markdown",
   "metadata": {},
   "source": [
    "$$ v = -7 \\cos (2t + 40^\\circ) \\, \\mathrm{V} = 7 \\cos (2t + 40^\\circ + 180^\\circ) \\, \\mathrm{V} $$"
   ]
  },
  {
   "cell_type": "markdown",
   "metadata": {},
   "source": [
    "$$ v = 7 \\cos (2t + 220^\\circ) \\, \\mathrm{V} $$"
   ]
  },
  {
   "cell_type": "markdown",
   "metadata": {},
   "source": [
    "Bentuk fasor dari $v$ adalah: $ \\vec{V} = (7, \\angle 220^\\circ) \\, \\mathrm{V} $"
   ]
  },
  {
   "cell_type": "markdown",
   "metadata": {},
   "source": [
    "$b)$ Diketahui bahwa $\\sin A = \\cos (A - 90^\\circ)$"
   ]
  },
  {
   "cell_type": "markdown",
   "metadata": {},
   "source": [
    "$$ i = 4 \\sin (10t + 10^\\circ) \\, \\mathrm{A} = 4 \\cos (10t + 10^\\circ - 90^\\circ) \\, \\mathrm{A} $$"
   ]
  },
  {
   "cell_type": "markdown",
   "metadata": {},
   "source": [
    "$$ i = 4 \\cos (10t - 80^\\circ) \\, \\mathrm{A} $$"
   ]
  },
  {
   "cell_type": "markdown",
   "metadata": {},
   "source": [
    "Bentuk fasor dari $\\vec{I} = (4, \\angle -80^\\circ) \\, \\mathrm{A}$"
   ]
  },
  {
   "cell_type": "markdown",
   "metadata": {},
   "source": [
    "## Contoh\n",
    "Tentukan sinusoida yang direpresentasikan oleh fasor berikut:"
   ]
  },
  {
   "cell_type": "markdown",
   "metadata": {},
   "source": [
    "$\\begin{array}{ll}\n",
    "a) & \\vec{I} = -3 + 4j \\, \\mathrm{A} \\\\\n",
    "b) & \\vec{V} = j8e^{-j20} \\, \\mathrm{V}\n",
    "\\end{array}$"
   ]
  },
  {
   "cell_type": "markdown",
   "metadata": {},
   "source": [
    "### Solusi\n",
    "$a)$"
   ]
  },
  {
   "cell_type": "code",
   "execution_count": null,
   "metadata": {},
   "outputs": [],
   "source": [
    "import math\n",
    "import cmath"
   ]
  },
  {
   "cell_type": "code",
   "execution_count": null,
   "metadata": {},
   "outputs": [],
   "source": [
    "I = complex(-3,4)\n",
    "I_pol = cmath.polar(I)\n",
    "\n",
    "r = I_pol[0]\n",
    "phi_deg = I_pol[1]*180/math.pi"
   ]
  },
  {
   "cell_type": "code",
   "execution_count": null,
   "metadata": {},
   "outputs": [],
   "source": [
    "print('I_polar = (%.2f<%.3frad)'%I_pol)\n",
    "print('I_polar = (%.2f<%.2f°)'%(r,phi_deg))"
   ]
  },
  {
   "cell_type": "code",
   "execution_count": null,
   "metadata": {},
   "outputs": [],
   "source": [
    "%reset -s -f"
   ]
  },
  {
   "cell_type": "markdown",
   "metadata": {},
   "source": [
    "Transformasi ke domain waktu"
   ]
  },
  {
   "cell_type": "markdown",
   "metadata": {},
   "source": [
    "$$ i(t) = 5 \\cos (\\omega t + 126,87^\\circ) \\, \\mathrm{A} $$"
   ]
  },
  {
   "cell_type": "markdown",
   "metadata": {},
   "source": [
    "$b)$ karena $j = 1 \\angle 90^\\circ$,"
   ]
  },
  {
   "cell_type": "markdown",
   "metadata": {},
   "source": [
    "$$ \\vec{V} = 8j \\angle -20^\\circ = (1 \\angle 90^\\circ)(8 \\angle -20^\\circ) $$"
   ]
  },
  {
   "cell_type": "markdown",
   "metadata": {},
   "source": [
    "$$ = 8 \\angle (90^\\circ - 20^\\circ) = 8 \\angle 70^\\circ \\, \\mathrm{V} $$"
   ]
  },
  {
   "cell_type": "markdown",
   "metadata": {},
   "source": [
    "Transformasi ke domain waktu menghasilkan"
   ]
  },
  {
   "cell_type": "markdown",
   "metadata": {},
   "source": [
    "$$ v(t) = 8 \\cos (\\omega t + 70^\\circ) \\, \\mathrm{V} $$"
   ]
  },
  {
   "cell_type": "markdown",
   "metadata": {},
   "source": [
    "## Latihan\n",
    "Tentukan sinusoida yang direpresentasikan oleh fasor berikut:\n",
    "\n",
    "$\\begin{array}{ll}\n",
    "a) & \\vec{V} = -10 \\angle 30^\\circ \\, \\mathrm{V} \\\\\n",
    "b) & \\vec{I} = j(5 - j12) \\, \\mathrm{A}\n",
    "\\end{array}\n",
    "$"
   ]
  },
  {
   "cell_type": "markdown",
   "metadata": {},
   "source": [
    "### Solusi"
   ]
  },
  {
   "cell_type": "markdown",
   "metadata": {},
   "source": [
    "$a)$\n",
    "$$ \\vec{V} = -10 \\angle 30^\\circ = 10 \\angle (30^\\circ + 180^\\circ) $$"
   ]
  },
  {
   "cell_type": "markdown",
   "metadata": {},
   "source": [
    "$$ = 10 \\angle 210^\\circ \\, \\mathrm{V} $$ "
   ]
  },
  {
   "cell_type": "markdown",
   "metadata": {},
   "source": [
    "Transformasi ke domain waktu menghasilkan"
   ]
  },
  {
   "cell_type": "markdown",
   "metadata": {},
   "source": [
    "$$ v(t) = 10 \\cos (\\omega t + 210^\\circ) \\, \\mathrm{V} $$"
   ]
  },
  {
   "cell_type": "markdown",
   "metadata": {},
   "source": [
    "$b)$\n",
    "$$ \\vec{I} = j(5 - j12) \\, \\mathrm{A} = 12 + 5j \\, \\mathrm{A} $$"
   ]
  },
  {
   "cell_type": "code",
   "execution_count": null,
   "metadata": {},
   "outputs": [],
   "source": [
    "import math\n",
    "import cmath"
   ]
  },
  {
   "cell_type": "code",
   "execution_count": null,
   "metadata": {},
   "outputs": [],
   "source": [
    "I = complex(12,5)\n",
    "I_pol = cmath.polar(I)"
   ]
  },
  {
   "cell_type": "code",
   "execution_count": null,
   "metadata": {},
   "outputs": [],
   "source": [
    "r = I_pol[0]\n",
    "phi = I_pol[1]"
   ]
  },
  {
   "cell_type": "code",
   "execution_count": null,
   "metadata": {},
   "outputs": [],
   "source": [
    "print('I_polar = (%.2f<%.3frad)'%(r,phi))\n",
    "print('I_polar = (%.2f<%.2f°)'%(r,phi*180/math.pi))"
   ]
  },
  {
   "cell_type": "markdown",
   "metadata": {},
   "source": [
    "$$ I(t) = 13 \\cos(\\omega t + 22,62^\\circ) \\, \\mathrm{A} $$"
   ]
  },
  {
   "cell_type": "code",
   "execution_count": null,
   "metadata": {},
   "outputs": [],
   "source": [
    "%reset -s -f"
   ]
  },
  {
   "cell_type": "markdown",
   "metadata": {},
   "source": [
    "## Contoh\n",
    "Diberikan\n",
    "$$\\begin{array}{l}\n",
    "i_1(t) = 4 \\cos (\\omega t + 30^\\circ) \\, \\mathrm{A} \\\\\n",
    "i_2(t) = 5 \\sin (\\omega t - 20^\\circ) \\, \\mathrm{A}\n",
    "\\end{array}$$\n",
    "tentukan jumlahnya."
   ]
  },
  {
   "cell_type": "markdown",
   "metadata": {},
   "source": [
    "### Solusi\n",
    "Disini kegunaan penting fasor: untuk menjumlahkan sinusoid dengan frekuensi yang sama.\n",
    "Arus $i_1(t)$ adalah dalam bentuk standar.\n",
    "Bentuk fasornya adalah"
   ]
  },
  {
   "cell_type": "markdown",
   "metadata": {},
   "source": [
    "$$ \\vec{I}_1 = 4 \\angle 30^\\circ $$"
   ]
  },
  {
   "cell_type": "markdown",
   "metadata": {},
   "source": [
    "Kita perlu mengekspresikan $i_2(t)$ dalam bentuk cosinus.\n",
    "Aturan untuk mengubah sinus ke cosinus adalah dengan mengurangi $90^\\circ$.\n",
    "Dengan demikian,"
   ]
  },
  {
   "cell_type": "markdown",
   "metadata": {},
   "source": [
    "$$ i_2 = 5 \\cos (\\omega t 20^\\circ - 90^\\circ) = 5 \\cos (\\omega t - 110^\\circ) $$"
   ]
  },
  {
   "cell_type": "markdown",
   "metadata": {},
   "source": [
    "dan bentuk fasornya adalah"
   ]
  },
  {
   "cell_type": "markdown",
   "metadata": {},
   "source": [
    "$$ \\vec{I}_2 = 5 \\angle -110^\\circ $$"
   ]
  },
  {
   "cell_type": "markdown",
   "metadata": {},
   "source": [
    "Jika kita anggap $i = i_1 + i_2$, maka"
   ]
  },
  {
   "cell_type": "markdown",
   "metadata": {},
   "source": [
    "$$ \\vec{I} = \\vec{I}_1 + \\vec{I}_2 = 4 \\angle 30^\\circ + 5 \\angle -110^\\circ $$"
   ]
  },
  {
   "cell_type": "code",
   "execution_count": null,
   "metadata": {},
   "outputs": [],
   "source": [
    "import math\n",
    "import cmath"
   ]
  },
  {
   "cell_type": "code",
   "execution_count": null,
   "metadata": {},
   "outputs": [],
   "source": [
    "r1 = 4 ; phi1 = 30*(math.pi/180)\n",
    "r2 = 5 ; phi2 = -110*(math.pi/180)\n",
    "\n",
    "I1 = cmath.rect(r1,phi1)\n",
    "I2 = cmath.rect(r2,phi2)"
   ]
  },
  {
   "cell_type": "code",
   "execution_count": null,
   "metadata": {},
   "outputs": [],
   "source": [
    "print('I1 = {:.3f}'.format(I1))\n",
    "print('I2 = {:.3f}'.format(I2))"
   ]
  },
  {
   "cell_type": "code",
   "execution_count": null,
   "metadata": {},
   "outputs": [],
   "source": [
    "I = I1 + I2"
   ]
  },
  {
   "cell_type": "code",
   "execution_count": null,
   "metadata": {},
   "outputs": [],
   "source": [
    "print('I = {:.3f}'.format(I))"
   ]
  },
  {
   "cell_type": "code",
   "execution_count": null,
   "metadata": {},
   "outputs": [],
   "source": [
    "I_polar = cmath.polar(I)"
   ]
  },
  {
   "cell_type": "code",
   "execution_count": null,
   "metadata": {},
   "outputs": [],
   "source": [
    "print('I_polar = (%.3f<%.3frad)'%I_polar)"
   ]
  },
  {
   "cell_type": "code",
   "execution_count": null,
   "metadata": {},
   "outputs": [],
   "source": [
    "r = I_polar[0]\n",
    "phi = I_polar[1]*180/math.pi\n",
    "print('I_polar = (%.3f<%.3f°)'%(r,phi))"
   ]
  },
  {
   "cell_type": "markdown",
   "metadata": {},
   "source": [
    "Transformasi ke domain waktu, kita peroleh"
   ]
  },
  {
   "cell_type": "markdown",
   "metadata": {},
   "source": [
    "$$ i(t) = 3,218 \\cos (\\omega t - 56,976^\\circ) \\, \\mathrm{A} $$"
   ]
  },
  {
   "cell_type": "code",
   "execution_count": null,
   "metadata": {},
   "outputs": [],
   "source": [
    "%reset -s -f"
   ]
  },
  {
   "cell_type": "markdown",
   "metadata": {},
   "source": [
    "## Latihan\n",
    "Jika\n",
    "$$\\begin{array}{l}\n",
    "v_1 = -10 \\sin (\\omega t + 30^\\circ) \\, \\mathrm{V} \\\\\n",
    "v_2 = 20 \\cos(\\omega t - 45^\\circ) \\, \\mathrm{V}\n",
    "\\end{array}$$\n",
    "tentukan $v = v_1 + v_2$."
   ]
  },
  {
   "cell_type": "markdown",
   "metadata": {},
   "source": [
    "### Solusi"
   ]
  },
  {
   "cell_type": "code",
   "execution_count": null,
   "metadata": {},
   "outputs": [],
   "source": [
    "import math, cmath"
   ]
  },
  {
   "cell_type": "markdown",
   "metadata": {},
   "source": [
    "$$ v_1 = -10 \\sin (\\omega t + 30^\\circ) \\, \\mathrm{V} = 10 \\cos (\\omega t + 30^\\circ + 90^\\circ) \\, \\mathrm{V}$$"
   ]
  },
  {
   "cell_type": "markdown",
   "metadata": {},
   "source": [
    "$$ v_1 = 10 \\cos (\\omega t + 120^\\circ) $$"
   ]
  },
  {
   "cell_type": "markdown",
   "metadata": {},
   "source": [
    "Kemudian:\n",
    "$$\\begin{array}{l}\n",
    "\\vec{V}_1 = 10 \\angle 120^\\circ \\\\\n",
    "\\vec{V}_2 = 20 \\angle -45^\\circ\n",
    "\\end{array}$$"
   ]
  },
  {
   "cell_type": "code",
   "execution_count": null,
   "metadata": {},
   "outputs": [],
   "source": [
    "r1 = 10 ; phi1 = 120*(math.pi/180)\n",
    "r2 = 20 ; phi2 = -45*(math.pi/180)\n",
    "\n",
    "V1 = cmath.rect(r1,phi1)\n",
    "V2 = cmath.rect(r2,phi2)"
   ]
  },
  {
   "cell_type": "code",
   "execution_count": null,
   "metadata": {},
   "outputs": [],
   "source": [
    "print('V1 = {:.3f}'.format(V1))\n",
    "print('V2 = {:.3f}'.format(V2))"
   ]
  },
  {
   "cell_type": "code",
   "execution_count": null,
   "metadata": {},
   "outputs": [],
   "source": [
    "# Penjumlahan\n",
    "V = V1 + V2"
   ]
  },
  {
   "cell_type": "code",
   "execution_count": null,
   "metadata": {},
   "outputs": [],
   "source": [
    "print('V = {:.3f}'.format(V))"
   ]
  },
  {
   "cell_type": "code",
   "execution_count": null,
   "metadata": {},
   "outputs": [],
   "source": [
    "V_polar = cmath.polar(V)"
   ]
  },
  {
   "cell_type": "code",
   "execution_count": null,
   "metadata": {},
   "outputs": [],
   "source": [
    "print('V_polar = (%.3f<%.3frad)'%V_polar)"
   ]
  },
  {
   "cell_type": "code",
   "execution_count": null,
   "metadata": {},
   "outputs": [],
   "source": [
    "r = V_polar[0] ; phi = V_polar[1]*180/math.pi\n",
    "print('V_polar = (%.2f<%.2f°)'%(r,phi))"
   ]
  },
  {
   "cell_type": "markdown",
   "metadata": {},
   "source": [
    "$$ \\vec{V} = 10,66 (\\omega t - 30,95^\\circ) \\, \\mathrm{V} $$"
   ]
  },
  {
   "cell_type": "code",
   "execution_count": null,
   "metadata": {},
   "outputs": [],
   "source": [
    "%reset -s -f"
   ]
  },
  {
   "cell_type": "markdown",
   "metadata": {},
   "source": [
    "## Contoh\n",
    "Dengan menggunakan pendekatan fasor, tentukan arus $i(t)$ suatu rangkaian yang dideskripsikan oleh persamaan integral-diferensial"
   ]
  },
  {
   "cell_type": "markdown",
   "metadata": {},
   "source": [
    "$$ 4i + 8 \\int i \\, dt - 3 \\frac{di}{dt} = 50 \\cos (2t + 75^\\circ) $$"
   ]
  },
  {
   "cell_type": "markdown",
   "metadata": {},
   "source": [
    "### Solusi\n",
    "Kita transformasikan tiap istilah dari domain waktu ke domain fasor.\n",
    "Dengan memperhatikan persamaan"
   ]
  },
  {
   "cell_type": "markdown",
   "metadata": {},
   "source": [
    "$$\\begin{array}{ccc}\n",
    "\\displaystyle \\frac{dv}{dt} & \\Leftrightarrow & j \\omega \\, \\mathrm{V} \\\\\n",
    "\\text{(Domain waktu)} & & \\text{(Domain fasor)}\n",
    "\\end{array}$$"
   ]
  },
  {
   "cell_type": "markdown",
   "metadata": {},
   "source": [
    "Demikian pula, integral $v(t)$ ditransformasikan ke domain fasor sebagai $\\mathrm{V}/j \\omega$."
   ]
  },
  {
   "cell_type": "markdown",
   "metadata": {},
   "source": [
    "$$\\begin{array}{ccc}\n",
    "\\displaystyle \\int v \\, dt & \\Leftrightarrow & \\displaystyle \\frac{\\mathrm{V}}{j \\omega} \\\\\n",
    "\\text{(Domain waktu)} & & \\text{(Domain fasor)}\n",
    "\\end{array}$$"
   ]
  },
  {
   "cell_type": "markdown",
   "metadata": {},
   "source": [
    "diperoleh bentuk fasor dari persamaan tersebut di atas"
   ]
  },
  {
   "cell_type": "markdown",
   "metadata": {},
   "source": [
    "$$ 4 I + \\frac{8I}{j \\omega} - 3j \\omega I = 50 \\angle 75^\\circ $$"
   ]
  },
  {
   "cell_type": "markdown",
   "metadata": {},
   "source": [
    "Namun $\\omega = 2$, maka"
   ]
  },
  {
   "cell_type": "markdown",
   "metadata": {},
   "source": [
    "$$ I (4 - 4j -6j) = 50 \\angle 75^\\circ $$"
   ]
  },
  {
   "cell_type": "markdown",
   "metadata": {},
   "source": [
    "$$ I = \\frac{50 \\angle 75^\\circ}{4 - 10j} $$"
   ]
  },
  {
   "cell_type": "code",
   "execution_count": null,
   "metadata": {},
   "outputs": [],
   "source": [
    "import math , cmath"
   ]
  },
  {
   "cell_type": "code",
   "execution_count": null,
   "metadata": {},
   "outputs": [],
   "source": [
    "z2 = cmath.polar(4-10j)\n",
    "r2 = z2[0] ; phi2 = z2[1]*180/math.pi\n",
    "print('z2 = (%.2f<%.2frad)'%z2)\n",
    "print('z2 = (%.2f<%.2f°)'%(r2,phi2))"
   ]
  },
  {
   "cell_type": "code",
   "execution_count": null,
   "metadata": {},
   "outputs": [],
   "source": [
    "r1 = 50 ; phi1 = 75\n",
    "r = r1/r2 ; phi = phi1 - phi2"
   ]
  },
  {
   "cell_type": "code",
   "execution_count": null,
   "metadata": {},
   "outputs": [],
   "source": [
    "print('I = (%.3f<%.2f°)A'%(r,phi))"
   ]
  },
  {
   "cell_type": "markdown",
   "metadata": {},
   "source": [
    "Konversi ke domain waktu,"
   ]
  },
  {
   "cell_type": "markdown",
   "metadata": {},
   "source": [
    "$$ i(t) = 4,642 \\cos (2t + 143,2^\\circ) \\, \\mathrm{A} $$"
   ]
  },
  {
   "cell_type": "code",
   "execution_count": null,
   "metadata": {},
   "outputs": [],
   "source": [
    "%reset -s -f"
   ]
  },
  {
   "cell_type": "markdown",
   "metadata": {},
   "source": [
    "### Latihan\n",
    "Tentukan tegangan $v(t)$ pada suatu rangkaian yang dideskripsikan oleh persamaan integral-diferensial"
   ]
  },
  {
   "cell_type": "markdown",
   "metadata": {},
   "source": [
    "$$ 2 \\frac{dv}{dt} + 5v + 10 \\int v \\, dt = 20 \\cos (5t - 30^\\circ) $$"
   ]
  },
  {
   "cell_type": "markdown",
   "metadata": {},
   "source": [
    "menggunakan pendekatan fasor."
   ]
  },
  {
   "cell_type": "markdown",
   "metadata": {},
   "source": [
    "$$ 2 j \\omega V + 5V + 10 \\frac{V}{j \\omega} = 20 \\angle -30^\\circ $$"
   ]
  },
  {
   "cell_type": "markdown",
   "metadata": {},
   "source": [
    "Letakkan $\\omega = 5$, maka"
   ]
  },
  {
   "cell_type": "markdown",
   "metadata": {},
   "source": [
    "$$ V (10j + 5 - 2j) = 20 \\angle -30^\\circ $$"
   ]
  },
  {
   "cell_type": "markdown",
   "metadata": {},
   "source": [
    "$$ V = \\frac{20 \\angle -30^\\circ}{5 + 8j} $$"
   ]
  },
  {
   "cell_type": "code",
   "execution_count": null,
   "metadata": {},
   "outputs": [],
   "source": [
    "import math, cmath"
   ]
  },
  {
   "cell_type": "code",
   "execution_count": null,
   "metadata": {},
   "outputs": [],
   "source": [
    "z2 = cmath.polar(5 + 8j)\n",
    "r1 = 20 ; phi1 = -30\n",
    "r2 = z2[0] ; phi2 = z2[1]*(180/math.pi)\n",
    "r = r1/r2 ; phi = phi1 - phi2"
   ]
  },
  {
   "cell_type": "code",
   "execution_count": null,
   "metadata": {},
   "outputs": [],
   "source": [
    "print('z2 = (%.2f<%.2f°)'%(r2,phi2))\n",
    "print('V = (%.2f<%.1f°)'%(r,phi))"
   ]
  },
  {
   "cell_type": "markdown",
   "metadata": {},
   "source": [
    "$$ V = \\frac{20 \\angle -30^\\circ}{9,43 \\angle 57,99^\\circ} = 2,12 \\angle -88^\\circ $$"
   ]
  },
  {
   "cell_type": "markdown",
   "metadata": {},
   "source": [
    "Kemudian:"
   ]
  },
  {
   "cell_type": "markdown",
   "metadata": {},
   "source": [
    "$$ v(t) = 2,12 \\cos (5t - 88^\\circ) \\, \\mathrm{V} $$"
   ]
  }
 ],
 "metadata": {
  "kernelspec": {
   "display_name": "Python 3",
   "language": "python",
   "name": "python3"
  },
  "language_info": {
   "codemirror_mode": {
    "name": "ipython",
    "version": 3
   },
   "file_extension": ".py",
   "mimetype": "text/x-python",
   "name": "python",
   "nbconvert_exporter": "python",
   "pygments_lexer": "ipython3",
   "version": "3.7.6"
  }
 },
 "nbformat": 4,
 "nbformat_minor": 4
}
